{
  "nbformat": 4,
  "nbformat_minor": 0,
  "metadata": {
    "colab": {
      "provenance": [],
      "collapsed_sections": [
        "Sc8md123Z-W7",
        "FqxiONnfaRvX"
      ],
      "gpuType": "T4",
      "authorship_tag": "ABX9TyO37l3dAmdWIHnwM5xGmLIm",
      "include_colab_link": true
    },
    "kernelspec": {
      "name": "python3",
      "display_name": "Python 3"
    },
    "language_info": {
      "name": "python"
    },
    "accelerator": "GPU"
  },
  "cells": [
    {
      "cell_type": "markdown",
      "metadata": {
        "id": "view-in-github",
        "colab_type": "text"
      },
      "source": [
        "<a href=\"https://colab.research.google.com/github/sashfaq911/Pytorch-Tutorial-Youtube/blob/Projects/Intro_To_Colab.ipynb\" target=\"_parent\"><img src=\"https://colab.research.google.com/assets/colab-badge.svg\" alt=\"Open In Colab\"/></a>"
      ]
    },
    {
      "cell_type": "code",
      "execution_count": 1,
      "metadata": {
        "id": "1byYq205T45o",
        "colab": {
          "base_uri": "https://localhost:8080/"
        },
        "outputId": "e56a7ad0-98db-4fde-fd55-3b5726c74723"
      },
      "outputs": [
        {
          "output_type": "execute_result",
          "data": {
            "text/plain": [
              "4"
            ]
          },
          "metadata": {},
          "execution_count": 1
        }
      ],
      "source": [
        "2+2\n"
      ]
    },
    {
      "cell_type": "markdown",
      "source": [
        "## WHAT ARE TENSORS\n",
        "\n",
        "\n",
        "*   A torch. Tensor is a milti-dimensional matrix containing elements of a single data type.\n",
        "*   Similar to Numpy Arrays, but full of fun things that make them work better on GPU's (vs regular CPU's).\n",
        "*   default data type of float32.\n",
        "*   More suotable for deep learning than a nympy array.\n",
        "\n"
      ],
      "metadata": {
        "id": "-V5o3YyAqPK1"
      }
    },
    {
      "cell_type": "code",
      "source": [
        "import torch\n",
        "import numpy as np\n"
      ],
      "metadata": {
        "id": "wwcTIgpnVYUh"
      },
      "execution_count": 2,
      "outputs": []
    },
    {
      "cell_type": "markdown",
      "source": [
        "## LISTS"
      ],
      "metadata": {
        "id": "Sc8md123Z-W7"
      }
    },
    {
      "cell_type": "code",
      "source": [
        "my_list = [1,2,3,4,5]\n",
        "my_list"
      ],
      "metadata": {
        "colab": {
          "base_uri": "https://localhost:8080/"
        },
        "id": "Eu8A6rYGVxiI",
        "outputId": "33a9c539-f373-421a-a9ea-7e63b6c4027a"
      },
      "execution_count": 3,
      "outputs": [
        {
          "output_type": "execute_result",
          "data": {
            "text/plain": [
              "[1, 2, 3, 4, 5]"
            ]
          },
          "metadata": {},
          "execution_count": 3
        }
      ]
    },
    {
      "cell_type": "code",
      "source": [],
      "metadata": {
        "id": "5swhmClMa5SI"
      },
      "execution_count": null,
      "outputs": []
    },
    {
      "cell_type": "markdown",
      "source": [
        "## NUMPY ARRAYS"
      ],
      "metadata": {
        "id": "FqxiONnfaRvX"
      }
    },
    {
      "cell_type": "code",
      "source": [
        " np1 = np.random.rand(3,4)\n",
        " np1"
      ],
      "metadata": {
        "colab": {
          "base_uri": "https://localhost:8080/"
        },
        "id": "Qa8_wNAGaao7",
        "outputId": "39a59258-08f3-4bcd-b355-aad382f0fe79"
      },
      "execution_count": 4,
      "outputs": [
        {
          "output_type": "execute_result",
          "data": {
            "text/plain": [
              "array([[0.57625658, 0.32500074, 0.28221623, 0.50690352],\n",
              "       [0.56637174, 0.51507855, 0.39303509, 0.17242221],\n",
              "       [0.52046127, 0.23110968, 0.8075734 , 0.39752256]])"
            ]
          },
          "metadata": {},
          "execution_count": 4
        }
      ]
    },
    {
      "cell_type": "code",
      "source": [
        "np1.dtype"
      ],
      "metadata": {
        "colab": {
          "base_uri": "https://localhost:8080/"
        },
        "id": "1JTqb4IpoyLX",
        "outputId": "b2198013-4b42-4053-ba33-8051d0a94e77"
      },
      "execution_count": 5,
      "outputs": [
        {
          "output_type": "execute_result",
          "data": {
            "text/plain": [
              "dtype('float64')"
            ]
          },
          "metadata": {},
          "execution_count": 5
        }
      ]
    },
    {
      "cell_type": "markdown",
      "source": [
        "## TENSORS"
      ],
      "metadata": {
        "id": "8qTDj_6Wacah"
      }
    },
    {
      "cell_type": "code",
      "source": [
        "tensor_2d = torch.randn(3,4)\n",
        "tensor_2d"
      ],
      "metadata": {
        "colab": {
          "base_uri": "https://localhost:8080/"
        },
        "id": "uSpeqkNsahzA",
        "outputId": "65fb936d-9788-4d73-b69f-e14e5535e1c1"
      },
      "execution_count": 6,
      "outputs": [
        {
          "output_type": "execute_result",
          "data": {
            "text/plain": [
              "tensor([[-1.2225,  2.1612,  0.5510,  1.2297],\n",
              "        [-1.3093,  0.3365,  1.1102, -0.2698],\n",
              "        [-0.3285, -1.3874,  1.2932,  0.6121]])"
            ]
          },
          "metadata": {},
          "execution_count": 6
        }
      ]
    },
    {
      "cell_type": "code",
      "source": [
        "## Create tensor out of numpy array\n",
        "my_tensor = torch.tensor(np1)\n",
        "my_tensor"
      ],
      "metadata": {
        "colab": {
          "base_uri": "https://localhost:8080/"
        },
        "id": "8MgVI7Jtaiox",
        "outputId": "47e42fb2-36eb-48c7-f949-2ba8a296485a"
      },
      "execution_count": 7,
      "outputs": [
        {
          "output_type": "execute_result",
          "data": {
            "text/plain": [
              "tensor([[0.5763, 0.3250, 0.2822, 0.5069],\n",
              "        [0.5664, 0.5151, 0.3930, 0.1724],\n",
              "        [0.5205, 0.2311, 0.8076, 0.3975]], dtype=torch.float64)"
            ]
          },
          "metadata": {},
          "execution_count": 7
        }
      ]
    },
    {
      "cell_type": "markdown",
      "source": [],
      "metadata": {
        "id": "qaBq2Hcbajos"
      }
    }
  ]
}